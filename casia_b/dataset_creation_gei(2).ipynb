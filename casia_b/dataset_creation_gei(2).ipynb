{
 "cells": [
  {
   "cell_type": "code",
   "execution_count": 1,
   "metadata": {},
   "outputs": [],
   "source": [
    "import pickle\n",
    "import os \n",
    "from PIL import Image\n",
    "import numpy as np\n",
    "import cv2\n",
    "import glob\n",
    "import matplotlib.pyplot as plt"
   ]
  },
  {
   "cell_type": "code",
   "execution_count": 2,
   "metadata": {},
   "outputs": [],
   "source": [
    "with open(\"indices_gait.txt\", \"rb\") as fl:\n",
    "    ind = pickle.load(fl)"
   ]
  },
  {
   "cell_type": "code",
   "execution_count": 3,
   "metadata": {},
   "outputs": [],
   "source": [
    "path = \"/DATA/nirbhay/tharun/gei\"\n",
    "if os.path.isdir(path) == False:\n",
    "        os.mkdir(path)"
   ]
  },
  {
   "cell_type": "code",
   "execution_count": 4,
   "metadata": {},
   "outputs": [],
   "source": [
    "#gait energy image image printing --helper function\n",
    "def print_img(path,app,nm):\n",
    "    files = glob.glob(path+\"*.png\")\n",
    "    files.sort()\n",
    "    \n",
    "    path = \"/DATA/nirbhay/tharun/gei/\"+app\n",
    "    if os.path.isdir(path) == False:\n",
    "            os.mkdir(path)\n",
    "    \n",
    "    for j in range(len(ind[int(app)][nm-1])-2):\n",
    "        if j is None:\n",
    "            continue\n",
    "        gei = np.zeros((150,75))\n",
    "        c=0\n",
    "        print(app)\n",
    "        for i in range(ind[int(app)][nm-1][j],ind[int(app)][nm-1][j+2]+1):\n",
    "            img = cv2.imread(files[i],0)\n",
    "            gei +=img\n",
    "            c+=1\n",
    "        gei/=c\n",
    "        im = Image.fromarray(gei)\n",
    "        im = im.convert(\"L\")\n",
    "        img_path = path+\"/\"+app+\"_\"+str(nm)+\"_\"+str(j)+'.png'\n",
    "        im.save(img_path)\n",
    "        print(img_path)"
   ]
  },
  {
   "cell_type": "code",
   "execution_count": 7,
   "metadata": {
    "scrolled": true
   },
   "outputs": [],
   "source": [
    "#gait energy images\n",
    "#images from nm01-04 only\n",
    "for i in range(1,125):\n",
    "    if i<10:\n",
    "        app = \"00\"+str(i)\n",
    "    elif i<100:\n",
    "        app = \"0\"+str(i)\n",
    "    else :\n",
    "        app = str(i)\n",
    "    for j in range(1,5):\n",
    "        path = \"/DATA/nirbhay/tharun/dataset_CASIA/\"+app+\"/nm-0\"+str(j)+\"/\"\n",
    "        print_img(path,app,j)\n",
    "    print(\"*\"*20)"
   ]
  },
  {
   "cell_type": "code",
   "execution_count": 8,
   "metadata": {
    "scrolled": false
   },
   "outputs": [],
   "source": [
    "for i in range(1,125):\n",
    "    if i<10:\n",
    "        app = \"00\"+str(i)\n",
    "    elif i<100:\n",
    "        app = \"0\"+str(i)\n",
    "    else :\n",
    "        app = str(i)\n",
    "        \n",
    "    path = \"/DATA/nirbhay/tharun/gei/\"+app+\"/\"\n",
    "    files = glob.glob(path+\"*.png\")\n",
    "    files.sort()\n",
    "    \n",
    "    for f in files:\n",
    "        print(f)\n",
    "        img = cv2.imread(f,0)\n",
    "        plt.imshow(img)\n",
    "        plt.show()"
   ]
  },
  {
   "cell_type": "code",
   "execution_count": null,
   "metadata": {},
   "outputs": [],
   "source": []
  }
 ],
 "metadata": {
  "kernelspec": {
   "display_name": "Python 3",
   "language": "python",
   "name": "python3"
  },
  "language_info": {
   "codemirror_mode": {
    "name": "ipython",
    "version": 3
   },
   "file_extension": ".py",
   "mimetype": "text/x-python",
   "name": "python",
   "nbconvert_exporter": "python",
   "pygments_lexer": "ipython3",
   "version": "3.6.8"
  }
 },
 "nbformat": 4,
 "nbformat_minor": 4
}
