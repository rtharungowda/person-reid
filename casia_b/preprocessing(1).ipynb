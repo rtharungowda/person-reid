{
 "cells": [
  {
   "cell_type": "code",
   "execution_count": null,
   "metadata": {},
   "outputs": [],
   "source": [
    "%matplotlib inline\n",
    "import numpy as np\n",
    "import cv2\n",
    "import os\n",
    "import glob\n",
    "import matplotlib.pyplot as plt\n",
    "from scipy.interpolate import make_interp_spline, BSpline\n",
    "from PIL import Image, ImageOps\n",
    "import pickle\n",
    "\n",
    "from loess import Loess"
   ]
  },
  {
   "cell_type": "code",
   "execution_count": null,
   "metadata": {},
   "outputs": [],
   "source": [
    "files = glob.glob('/SSD/Pratik/Gait_Data/GaitDatasetB-silh/001/001/nm-01/090/*.png')\n",
    "folder = []\n",
    "for i in range(1,125):\n",
    "    if i<10:\n",
    "        app = \"00\"+str(i)\n",
    "    elif i<100:\n",
    "        app = \"0\"+str(i)\n",
    "    else :\n",
    "        app = str(i)\n",
    "    folder.append(\"/SSD/Pratik/Gait_Data/GaitDatasetB-silh/\"+app+\"/\"+app)"
   ]
  },
  {
   "cell_type": "code",
   "execution_count": null,
   "metadata": {},
   "outputs": [],
   "source": [
    "files"
   ]
  },
  {
   "cell_type": "code",
   "execution_count": null,
   "metadata": {
    "scrolled": true
   },
   "outputs": [],
   "source": [
    "# cropping the person out --helper function\n",
    "def preprocessing(file):\n",
    "    img = cv2.imread(file)\n",
    "    im_bw = cv2.cvtColor(img, cv2.COLOR_RGB2GRAY)\n",
    "    \n",
    "    #gradient and contour\n",
    "    (thresh, im_bw) = cv2.threshold(im_bw, 127, 255, 0)\n",
    "    contours, hierarchy = cv2.findContours(im_bw, cv2.RETR_TREE, cv2.CHAIN_APPROX_SIMPLE)\n",
    "    rect = cv2.boundingRect(contours[0])\n",
    "    x,y,w,h = rect\n",
    "                            \n",
    "    #cropped image\n",
    "    new_img = im_bw[y:y+h,x:x+w]\n",
    "    \n",
    "    #centering\n",
    "    mean = 0\n",
    "    for i in range(new_img.shape[0]):\n",
    "        count = 0\n",
    "        value = 0\n",
    "        for j in range(new_img.shape[1]):\n",
    "            if new_img[i][j]>0:\n",
    "                value += j\n",
    "                count += 1\n",
    "        if count!=0:\n",
    "            mean += value/count\n",
    "    mean = int(mean/new_img.shape[0])\n",
    "    if mean < new_img.shape[1]/2:\n",
    "        add = new_img.shape[1] - 2*mean\n",
    "        val = np.zeros((new_img.shape[0],add))\n",
    "\n",
    "        cent = np.c_[val,new_img]\n",
    "    else :\n",
    "        add = (2*mean - new_img.shape[1])//3\n",
    "        val = np.zeros((new_img.shape[0],add))\n",
    "\n",
    "        cent = np.c_[new_img,val]\n",
    "    pil_img = Image.fromarray(cent)\n",
    "    pil_img = pil_img.resize((75,150))\n",
    "    print(pil_img.size)\n",
    "    plt.imshow(pil_img)\n",
    "    plt.show()\n",
    "    \n",
    "    return pil_img"
   ]
  },
  {
   "cell_type": "code",
   "execution_count": null,
   "metadata": {},
   "outputs": [],
   "source": [
    "#cropping all the images from dataset and creates new dataset to save the cropped\n",
    "\n",
    "if os.path.isdir(\"dataset_silh\") == False:\n",
    "    os.mkdir(\"dataset_silh\")\n",
    "    \n",
    "files = glob.glob('/SSD/Pratik/Gait_Data/GaitDatasetB-silh/001/001/nm-01/090/*.png')\n",
    "folder = []\n",
    "for i in range(1,125):\n",
    "    if i<10:\n",
    "        app = \"00\"+str(i)\n",
    "    elif i<100:\n",
    "        app = \"0\"+str(i)\n",
    "    else :\n",
    "        app = str(i)\n",
    "    dst_folder = \"/SSD/Pratik/Gait_Data/GaitDatasetB-silh/\"+app+\"/\"+app+\"/\"\n",
    "    sv_folder = \"dataset_silh/\"+app\n",
    "    \n",
    "    if os.path.isdir(sv_folder) == False:\n",
    "        os.mkdir(sv_folder)\n",
    "    \n",
    "    for j in range(1,7):\n",
    "        dst_subfolder = dst_folder+\"nm-0\"+str(j)+\"/090/\"\n",
    "        sv_subfolder = sv_folder+\"/nm-0\"+str(j)\n",
    "        \n",
    "        if os.path.isdir(sv_subfolder) == False:\n",
    "            os.mkdir(sv_subfolder)\n",
    "        \n",
    "        files  = glob.glob(dst_subfolder+\"*.png\")\n",
    "        for file in files:\n",
    "            label = file.replace(dst_subfolder,'')\n",
    "            \n",
    "            image = preprocessing(file)\n",
    "            image_gry = ImageOps.grayscale(image)\n",
    "            image_gry.save(sv_subfolder+\"/\"+label)\n",
    "    "
   ]
  },
  {
   "cell_type": "code",
   "execution_count": null,
   "metadata": {},
   "outputs": [],
   "source": [
    "im_bw = cv2.cvtColor(img, cv2.COLOR_RGB2GRAY)\n",
    "(thresh, im_bw) = cv2.threshold(im_bw, 127, 255, 0)\n",
    "contours, hierarchy = cv2.findContours(im_bw, cv2.RETR_TREE, cv2.CHAIN_APPROX_SIMPLE)\n",
    "rect = cv2.boundingRect(contours[0])\n",
    "x,y,w,h = rect\n",
    "new_img = im_bw[y:y+h,x:x+w]\n",
    "plt.imshow(new_img)\n",
    "plt.show()"
   ]
  },
  {
   "cell_type": "code",
   "execution_count": null,
   "metadata": {},
   "outputs": [],
   "source": [
    "#centering the images \n",
    "mean = 0\n",
    "for i in range(new_img.shape[0]):\n",
    "    count = 0\n",
    "    value = 0\n",
    "    for j in range(new_img.shape[1]):\n",
    "        if new_img[i][j]>0:\n",
    "            value += j\n",
    "            count += 1\n",
    "    if count!=0:\n",
    "        mean += value/count\n",
    "mean = int(mean/new_img.shape[0])\n",
    "if mean < new_img.shape[1]/2:\n",
    "    add = new_img.shape[1] - 2*mean\n",
    "    val = np.zeros((new_img.shape[0],add))\n",
    "\n",
    "    cent = np.c_[val,new_img]\n",
    "else :\n",
    "    add = (2*mean - new_img.shape[1])/3\n",
    "    val = np.zeros((new_img.shape[0],add))\n",
    "    \n",
    "    cent = np.c_[new_img,val]"
   ]
  },
  {
   "cell_type": "code",
   "execution_count": null,
   "metadata": {},
   "outputs": [],
   "source": [
    "plt.imshow(cent)\n",
    "plt.show()"
   ]
  },
  {
   "cell_type": "code",
   "execution_count": null,
   "metadata": {},
   "outputs": [],
   "source": [
    "double_support = [[[None] for i in range(1,7)]  for j in range(1,126)]\n",
    "ind = [[[None] for i in range(1,7)]  for j in range(1,126)]\n",
    "# double_support_y = [[[None] for i in range(1,6)]  for j in range(1,126)]\n",
    "\n",
    "missing = []\n",
    "\n",
    "#gait cycle extraction --helper function\n",
    "def find_grp(path,app,nm):\n",
    "    \n",
    "    x = []\n",
    "    y = []\n",
    "    frames = []\n",
    "    k=0\n",
    "    whts=[]\n",
    "    files = glob.glob(path+\"*.png\")\n",
    "    files.sort()\n",
    "    if len(files)== 0:\n",
    "        missing.append(app)\n",
    "        return \n",
    "    for index,file in enumerate(files):\n",
    "#         print(file)\n",
    "        frames.append(k)\n",
    "        k+=1\n",
    "        img = cv2.imread(file,0)\n",
    "        white=0\n",
    "        inf_x=0\n",
    "        inf_y=0\n",
    "        for i in range(img.shape[0]):\n",
    "            for j in range(img.shape[1]):\n",
    "                if img[i][j]>0:\n",
    "                    white+=1\n",
    "                    inf_x+=j\n",
    "                    inf_y+=i\n",
    "        x.append(inf_x/white)\n",
    "        y.append(inf_y/white)\n",
    "        img = cv2.circle(img, (int(x[-1]),int(y[-1])), 1, (0,0,255), 1)\n",
    "#         plt.imshow(img)\n",
    "#         plt.show()\n",
    "#         whts.append(white)\n",
    "#         print(f\"com x-{x[-1]}  y-{y[-1]}\")\n",
    "#         print(f\"white {white} index {index} \")\n",
    "    y_avg=0\n",
    "#     for val in y:\n",
    "#         y_avg += val\n",
    "#     y_avg = y_avg/len(y)\n",
    "#     epsilon = 2\n",
    "    \n",
    "#     print(f\"average y pos {y_avg} epsl {epsilon}\")\n",
    "    \n",
    "#     for i,f in enumerate(files):\n",
    "#         if y[i]<y_avg-epsilon:\n",
    "#             print(f,y[i])\n",
    "#             img = cv2.imread(f,0)\n",
    "#             plt.imshow(img)\n",
    "#             plt.show()\n",
    "\n",
    "    #smoothing\n",
    "    frames = np.array(frames)\n",
    "    y = np.array(y)\n",
    "    loess = Loess(frames, y)\n",
    "    y_smooth = np.zeros(y.shape[0])\n",
    "    for i in range(frames.shape[0]):\n",
    "        y_smooth[i] = loess.estimate(frames[i], window=5)\n",
    "        y_avg+=y_smooth[i]\n",
    "        \n",
    "    y_avg/=y_smooth.shape\n",
    "        \n",
    "    #find peaks in graph    \n",
    "    for i in range(1,frames.shape[0]-1):\n",
    "        if y_smooth[i]<y_smooth[i+1] and y_smooth[i]<y_smooth[i-1] and y_smooth[i]<y_avg:\n",
    "            print(files[i],y_smooth[i])\n",
    "#             img = cv2.imread(files[i],0)\n",
    "#             plt.imshow(img)\n",
    "#             plt.show()\n",
    "            if double_support[int(app)][nm-1][0] is None:\n",
    "                double_support[int(app)][nm-1].pop(0)\n",
    "                ind[int(app)][nm-1].pop(0)\n",
    "            double_support[int(app)][nm-1].append(files[i])\n",
    "            ind[int(app)][nm-1].append(i)\n",
    "    \n",
    "    #plotting \n",
    "#     plt.figure()\n",
    "    fig, (ax1, ax2) = plt.subplots(1, 2,figsize=(16,6))\n",
    "    fig.suptitle(app+\"---\"+str(nm))\n",
    "    #before\n",
    "    ax1.plot(frames, y, marker=\"+\" ,linewidth=0.5)\n",
    "#     ax1.show()\n",
    "    #after\n",
    "    ax2.plot(frames, y_smooth,marker=\"*\",linewidth=0.5)\n",
    "    plt.show()\n",
    "    \n",
    "    print(\"num frames =\",len(frames))\n",
    "    print(\"double supports =\",len(double_support[int(app)][nm-1]))\n",
    "    print(\"indices \",ind[int(app)][nm-1])"
   ]
  },
  {
   "cell_type": "code",
   "execution_count": null,
   "metadata": {
    "scrolled": false
   },
   "outputs": [],
   "source": [
    "#gait cycle plot creation\n",
    "for i in range(1,11):\n",
    "    if i<10:\n",
    "        app = \"00\"+str(i)\n",
    "    elif i<100:\n",
    "        app = \"0\"+str(i)\n",
    "    else :\n",
    "        app = str(i)\n",
    "    for j in range(1,7):\n",
    "        path = \"/SSD/Pratik/Gait_Data/Casia_data_preprocessed/GaitDatasetB-silh_PerfectlyAlingedFullPossibleCyclesImages/\"+app+\"/nm-0\"+str(j)+\"/\"\n",
    "        print(app,j)   \n",
    "        find_grp(path,app,j)\n",
    "    print(\"*\"*20)"
   ]
  },
  {
   "cell_type": "code",
   "execution_count": null,
   "metadata": {},
   "outputs": [],
   "source": [
    "img[:,:,0]==img[:,:,1]"
   ]
  },
  {
   "cell_type": "code",
   "execution_count": null,
   "metadata": {},
   "outputs": [],
   "source": [
    "#gait cycle image printing --helper function\n",
    "\n",
    "def print_img(path,app,nm):\n",
    "    files = glob.glob(path+\"*.png\")\n",
    "    files.sort()\n",
    "    \n",
    "    for j in range(len(ind[int(app)][nm-1])-2):\n",
    "        if j is None:\n",
    "            continue\n",
    "        for i in range(ind[int(app)][nm-1][j],ind[int(app)][nm-1][j+2]+1):\n",
    "            print(files[i])\n",
    "            img = cv2.imread(files[i],0)\n",
    "            plt.imshow(img)\n",
    "            plt.show()\n",
    "        print('Gait cycle complete')\n",
    "        print('%%'*10)\n",
    "        "
   ]
  },
  {
   "cell_type": "code",
   "execution_count": null,
   "metadata": {
    "scrolled": true
   },
   "outputs": [],
   "source": [
    "#gait cycle image printing\n",
    "for i in range(2,3):\n",
    "    if i<10:\n",
    "        app = \"00\"+str(i)\n",
    "    elif i<100:\n",
    "        app = \"0\"+str(i)\n",
    "    else :\n",
    "        app = str(i)\n",
    "    for j in range(1,7):\n",
    "        path = \"/SSD/Pratik/Gait_Data/Casia_data_preprocessed/GaitDatasetB-silh_PerfectlyAlingedFullPossibleCyclesImages/\"+app+\"/nm-0\"+str(j)+\"/\"\n",
    "        print(app,j)\n",
    "        print_img(path,app,j)\n",
    "    print(\"*\"*20)"
   ]
  },
  {
   "cell_type": "code",
   "execution_count": null,
   "metadata": {},
   "outputs": [],
   "source": [
    "#save ids\n",
    "\n",
    "with open(\"indices_ntm_1_10.txt\", \"wb\") as fp:\n",
    "    pickle.dump(ind,fp)"
   ]
  },
  {
   "cell_type": "code",
   "execution_count": null,
   "metadata": {},
   "outputs": [],
   "source": [
    "with open(\"indices_preprocessed.txt\", \"rb\") as fp:\n",
    "    new_id = pickle.load(fp)\n",
    "ind = new_id"
   ]
  },
  {
   "cell_type": "code",
   "execution_count": null,
   "metadata": {},
   "outputs": [],
   "source": [
    "ind = np.array(ind)\n",
    "ind.shape"
   ]
  },
  {
   "cell_type": "code",
   "execution_count": null,
   "metadata": {},
   "outputs": [],
   "source": [
    "ind[1]"
   ]
  },
  {
   "cell_type": "code",
   "execution_count": null,
   "metadata": {},
   "outputs": [],
   "source": [
    "path = \"/SSD/Pratik/Gait_Data/Casia_data_preprocessed/GaitDatasetB-silh_PerfectlyAlingedFullPossibleCyclesImages/006/nm-01/\"\n",
    "files = glob.glob(path+\"*.png\")\n",
    "for f in files:\n",
    "    img = cv2.imread(f)\n",
    "    plt.imshow(img)\n",
    "    plt.show"
   ]
  },
  {
   "cell_type": "code",
   "execution_count": null,
   "metadata": {},
   "outputs": [],
   "source": []
  }
 ],
 "metadata": {
  "kernelspec": {
   "display_name": "Python 3",
   "language": "python",
   "name": "python3"
  },
  "language_info": {
   "codemirror_mode": {
    "name": "ipython",
    "version": 3
   },
   "file_extension": ".py",
   "mimetype": "text/x-python",
   "name": "python",
   "nbconvert_exporter": "python",
   "pygments_lexer": "ipython3",
   "version": "3.6.8"
  }
 },
 "nbformat": 4,
 "nbformat_minor": 1
}
